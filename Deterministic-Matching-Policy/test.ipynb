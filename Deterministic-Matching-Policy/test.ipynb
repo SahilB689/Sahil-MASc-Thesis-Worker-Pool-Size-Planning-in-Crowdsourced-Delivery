{
 "cells": [
  {
   "cell_type": "code",
   "execution_count": 4,
   "metadata": {},
   "outputs": [
    {
     "name": "stdout",
     "output_type": "stream",
     "text": [
      "pool_sizes are:  [18, 7, 21, 14, 13, 1, 13, 1, 14, 9, 3, 8, 1, 1, 2, 20]\n",
      "\n",
      "\u001b[1m\u001b[94mI IS EQUAL TO:  0 \u001b[0m\n",
      "\n",
      "pool_sizes:  [18, 7, 21, 14, 13, 1, 13, 1, 14, 9, 3, 8, 1, 1, 2, 20]\n",
      "\n",
      "\u001b[1m\u001b[91mN IS EQUAL TO:  1 \u001b[0m\n",
      "\n"
     ]
    }
   ],
   "source": [
    "import Main \n",
    "import math\n",
    "import numpy as np \n",
    "\n",
    "penalty, cfa = 250, True \n",
    "weight_driver_utilization = 1; \n",
    "\n",
    "loadname = 'data/revised_demand_data_wage_guarantee_test_inst_T=192_1_mu2.npz'\n",
    "#loadname = 'data/wage_guarantee_test_inst_T=192_1_mu2.npz'\n",
    "data_set = np.load(loadname, allow_pickle=True) \n",
    "pool_sizes = [18, 7, 21, 14, 13, 1, 13, 1, 14, 9, 3, 8, 1, 1, 2, 20]\n",
    "\n",
    "data = {'T': 192, 'pool_sizes':pool_sizes, 'train':True,'train_I':250, 'train_N':6, 'test_I':1, 'test_N':11, \n",
    "            'prob_enter':0.7, 'L': 0.8, 'Q': 1, 'w_d':weight_driver_utilization, 'w_s':1-weight_driver_utilization, \n",
    "            't_interval': 5, \n",
    "            'mu_enter': 2, 'mu_exit': 4, 'lambd': 10, 'delta_t': data_set['delta_t'].tolist(), 'grid_size': (10, 10),\n",
    "            'eta': 0.8, 'W': 0.8, 'theta': (1 / (2 * math.sqrt(200))), 'theta1': 1,\n",
    "            'gamma': 0.9, 'alpha_penalty': 1.0, 'lambda_initial': 10, 'h_int': 5, 'g_int': 5}\n",
    "    \n",
    "Main.run(penalty, data, data_set, cfa)    "
   ]
  },
  {
   "cell_type": "code",
   "execution_count": null,
   "metadata": {},
   "outputs": [],
   "source": []
  },
  {
   "cell_type": "code",
   "execution_count": null,
   "metadata": {},
   "outputs": [],
   "source": []
  }
 ],
 "metadata": {
  "kernelspec": {
   "display_name": "Python 3",
   "language": "python",
   "name": "python3"
  },
  "language_info": {
   "codemirror_mode": {
    "name": "ipython",
    "version": 3
   },
   "file_extension": ".py",
   "mimetype": "text/x-python",
   "name": "python",
   "nbconvert_exporter": "python",
   "pygments_lexer": "ipython3",
   "version": "3.10.6"
  }
 },
 "nbformat": 4,
 "nbformat_minor": 2
}
