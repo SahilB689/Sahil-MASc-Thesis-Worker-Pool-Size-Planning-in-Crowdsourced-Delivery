{
 "cells": [
  {
   "cell_type": "code",
   "execution_count": null,
   "metadata": {},
   "outputs": [],
   "source": [
    "import ADP_Algorithms_Functions_compare_utilization_to_wage_guarantee as func\n",
    "\n",
    "def run(penalty, cfa=False):\n",
    "    # Step 1: read data + initiate values\n",
    "    # for penalty in [10, 50, 100, 250]:  # 500, 1000\n",
    "    loadname = 'data/test_inst_T=192_1_mu2.npz'\n",
    "    data_set = np.load(loadname, allow_pickle=True)\n",
    "    aggregate = True\n",
    "    # changed to mu=2 06/28/21\n",
    "    data = {'T': 192, 't_interval': 5, 'mu_enter': 2, 'mu_exit': 4,  # T was saved as 10 in file\n",
    "            'lambd': 10, 'delta_t': data_set['delta_t'].tolist(), 'N': 1000, 'grid_size': (10, 10),\n",
    "            'eta': 0.8, 'W': 0.8, 'theta': (1 / (2 * math.sqrt(200))), 'theta1': 1,\n",
    "            'gamma': 0.9, 'Guaranteed_service': 120,\n",
    "            'alpha_penalty': 1.0, 'lambda_initial': 10, 'h_int': 5, 'g_int': 5}\n",
    "\n",
    "    m = data_set['m'].tolist()\n",
    "    d = data_set['d'].tolist()\n",
    "    v_t = {0: {}, 'count': {}, 'var': {}, 'last_met': {}}\n",
    "    data['loc_set_0'], data['loc_set_1'], data['loc_set_2'] = initiate_VF()\n",
    "    cfa_str = '_cfa' if cfa else ''\n",
    "    # Step 3: Run algorithm\n",
    "    obj_val_list, time_algorithm = iterate(data, m, d, v_t, aggregate, penalty, cfa)\n",
    "\n",
    "driver_attr, demand_attr = {}, {}\n",
    "obj_val, obj_val_list = {}, []\n",
    "# driver attribute a= (sa, ma, oa, time_first_matched, ha, \\bar{ha})\n",
    "# demand attribute b = (ob, db, dst, (tbmin, tbmax))\n",
    "t_training_begin = time()\n",
    "for n in range(1, data['N']):\n",
    "    \n",
    "    print('\\n' + color.BOLD + color.RED + 'N IS EQUAL TO: ', n, color.END); print()\n",
    "    \n",
    "    obj_val[n] = 0\n",
    "    driver_list = {'act_available': [], 'act_unavailable': [], 'inactive': [], 'exit': []}\n",
    "    demand_list = {'active': [], 'fulfilled': [], 'expired': []}\n",
    "    v_t[n] = {}  # Don't need it {('g%d' % xx) for xx in range(3)}  # value functions for 3 aggreg. levels.\n",
    "    d[n], m[n] = func.sample_path(data['mu_enter'], data['mu_exit'], data['lambd'],\n",
    "                                    data['grid_size'], data['t_interval'], data['T'], data['loc_set_0'])\n",
    "        \n",
    "func.sample_path(mu_enter, mu_exit, lambd, grid_size, t_interval, T, loc_set)"
   ]
  },
  {
   "cell_type": "code",
   "execution_count": 1,
   "metadata": {},
   "outputs": [
    {
     "data": {
      "text/plain": [
       "<numpy.lib.npyio.NpzFile at 0x2a30861f1c0>"
      ]
     },
     "execution_count": 1,
     "metadata": {},
     "output_type": "execute_result"
    }
   ],
   "source": [
    "import numpy as np\n",
    "\n",
    "np.load('data/wage_guarantee_test_inst_T=192_1_mu2.npz')\n",
    "\n"
   ]
  },
  {
   "cell_type": "code",
   "execution_count": 2,
   "metadata": {},
   "outputs": [
    {
     "ename": "NameError",
     "evalue": "name 'math' is not defined",
     "output_type": "error",
     "traceback": [
      "\u001b[1;31m---------------------------------------------------------------------------\u001b[0m",
      "\u001b[1;31mNameError\u001b[0m                                 Traceback (most recent call last)",
      "Cell \u001b[1;32mIn[2], line 27\u001b[0m\n\u001b[0;32m     24\u001b[0m     np\u001b[38;5;241m.\u001b[39msavez(name, v_t\u001b[38;5;241m=\u001b[39mv_t, obj_val_list\u001b[38;5;241m=\u001b[39mobj_val_list, time_algorithm\u001b[38;5;241m=\u001b[39mtime_algorithm)\n\u001b[0;32m     26\u001b[0m penalty, cfa \u001b[38;5;241m=\u001b[39m \u001b[38;5;241m250\u001b[39m, \u001b[38;5;28;01mTrue\u001b[39;00m\n\u001b[1;32m---> 27\u001b[0m \u001b[43mrun\u001b[49m\u001b[43m(\u001b[49m\u001b[43mpenalty\u001b[49m\u001b[43m,\u001b[49m\u001b[43m \u001b[49m\u001b[43mcfa\u001b[49m\u001b[43m)\u001b[49m\n",
      "Cell \u001b[1;32mIn[2], line 11\u001b[0m, in \u001b[0;36mrun\u001b[1;34m(penalty, cfa)\u001b[0m\n\u001b[0;32m      7\u001b[0m aggregate \u001b[38;5;241m=\u001b[39m \u001b[38;5;28;01mTrue\u001b[39;00m\n\u001b[0;32m      8\u001b[0m \u001b[38;5;66;03m# changed to mu=2 06/28/21\u001b[39;00m\n\u001b[0;32m      9\u001b[0m data \u001b[38;5;241m=\u001b[39m {\u001b[38;5;124m'\u001b[39m\u001b[38;5;124mT\u001b[39m\u001b[38;5;124m'\u001b[39m: \u001b[38;5;241m192\u001b[39m, \u001b[38;5;124m'\u001b[39m\u001b[38;5;124mt_interval\u001b[39m\u001b[38;5;124m'\u001b[39m: \u001b[38;5;241m5\u001b[39m, \u001b[38;5;124m'\u001b[39m\u001b[38;5;124mmu_enter\u001b[39m\u001b[38;5;124m'\u001b[39m: \u001b[38;5;241m2\u001b[39m, \u001b[38;5;124m'\u001b[39m\u001b[38;5;124mmu_exit\u001b[39m\u001b[38;5;124m'\u001b[39m: \u001b[38;5;241m4\u001b[39m,  \u001b[38;5;66;03m# T was saved as 10 in file\u001b[39;00m\n\u001b[0;32m     10\u001b[0m         \u001b[38;5;124m'\u001b[39m\u001b[38;5;124mlambd\u001b[39m\u001b[38;5;124m'\u001b[39m: \u001b[38;5;241m10\u001b[39m, \u001b[38;5;124m'\u001b[39m\u001b[38;5;124mdelta_t\u001b[39m\u001b[38;5;124m'\u001b[39m: data_set[\u001b[38;5;124m'\u001b[39m\u001b[38;5;124mdelta_t\u001b[39m\u001b[38;5;124m'\u001b[39m]\u001b[38;5;241m.\u001b[39mtolist(), \u001b[38;5;124m'\u001b[39m\u001b[38;5;124mN\u001b[39m\u001b[38;5;124m'\u001b[39m: \u001b[38;5;241m1000\u001b[39m, \u001b[38;5;124m'\u001b[39m\u001b[38;5;124mgrid_size\u001b[39m\u001b[38;5;124m'\u001b[39m: (\u001b[38;5;241m10\u001b[39m, \u001b[38;5;241m10\u001b[39m),\n\u001b[1;32m---> 11\u001b[0m         \u001b[38;5;124m'\u001b[39m\u001b[38;5;124meta\u001b[39m\u001b[38;5;124m'\u001b[39m: \u001b[38;5;241m0.8\u001b[39m, \u001b[38;5;124m'\u001b[39m\u001b[38;5;124mW\u001b[39m\u001b[38;5;124m'\u001b[39m: \u001b[38;5;241m0.8\u001b[39m, \u001b[38;5;124m'\u001b[39m\u001b[38;5;124mtheta\u001b[39m\u001b[38;5;124m'\u001b[39m: (\u001b[38;5;241m1\u001b[39m \u001b[38;5;241m/\u001b[39m (\u001b[38;5;241m2\u001b[39m \u001b[38;5;241m*\u001b[39m \u001b[43mmath\u001b[49m\u001b[38;5;241m.\u001b[39msqrt(\u001b[38;5;241m200\u001b[39m))), \u001b[38;5;124m'\u001b[39m\u001b[38;5;124mtheta1\u001b[39m\u001b[38;5;124m'\u001b[39m: \u001b[38;5;241m1\u001b[39m,\n\u001b[0;32m     12\u001b[0m         \u001b[38;5;124m'\u001b[39m\u001b[38;5;124mgamma\u001b[39m\u001b[38;5;124m'\u001b[39m: \u001b[38;5;241m0.9\u001b[39m, \u001b[38;5;124m'\u001b[39m\u001b[38;5;124mGuaranteed_service\u001b[39m\u001b[38;5;124m'\u001b[39m: \u001b[38;5;241m120\u001b[39m,\n\u001b[0;32m     13\u001b[0m         \u001b[38;5;124m'\u001b[39m\u001b[38;5;124malpha_penalty\u001b[39m\u001b[38;5;124m'\u001b[39m: \u001b[38;5;241m1.0\u001b[39m, \u001b[38;5;124m'\u001b[39m\u001b[38;5;124mlambda_initial\u001b[39m\u001b[38;5;124m'\u001b[39m: \u001b[38;5;241m10\u001b[39m, \u001b[38;5;124m'\u001b[39m\u001b[38;5;124mh_int\u001b[39m\u001b[38;5;124m'\u001b[39m: \u001b[38;5;241m5\u001b[39m, \u001b[38;5;124m'\u001b[39m\u001b[38;5;124mg_int\u001b[39m\u001b[38;5;124m'\u001b[39m: \u001b[38;5;241m5\u001b[39m}\n\u001b[0;32m     15\u001b[0m m \u001b[38;5;241m=\u001b[39m data_set[\u001b[38;5;124m'\u001b[39m\u001b[38;5;124mm\u001b[39m\u001b[38;5;124m'\u001b[39m]\u001b[38;5;241m.\u001b[39mtolist()\n\u001b[0;32m     16\u001b[0m d \u001b[38;5;241m=\u001b[39m data_set[\u001b[38;5;124m'\u001b[39m\u001b[38;5;124md\u001b[39m\u001b[38;5;124m'\u001b[39m]\u001b[38;5;241m.\u001b[39mtolist()\n",
      "\u001b[1;31mNameError\u001b[0m: name 'math' is not defined"
     ]
    }
   ],
   "source": [
    "import numpy as np\n",
    "import math \n",
    "\n",
    "def run(penalty, cfa=False):\n",
    "    # Step 1: read data + initiate values\n",
    "    # for penalty in [10, 50, 100, 250]:  # 500, 1000\n",
    "    loadname = 'data/test_inst_T=192_1_mu2.npz'\n",
    "    loadname = 'data/wage_guarantee_test_inst_T=192_1_mu2.npz'\n",
    "    data_set = np.load(loadname, allow_pickle=True)\n",
    "    aggregate = True\n",
    "    # changed to mu=2 06/28/21\n",
    "    data = {'T': 192, 't_interval': 5, 'mu_enter': 2, 'mu_exit': 4,  # T was saved as 10 in file\n",
    "            'lambd': 10, 'delta_t': data_set['delta_t'].tolist(), 'N': 1000, 'grid_size': (10, 10),\n",
    "            'eta': 0.8, 'W': 0.8, 'theta': (1 / (2 * math.sqrt(200))), 'theta1': 1,\n",
    "            'gamma': 0.9, 'Guaranteed_service': 120,\n",
    "            'alpha_penalty': 1.0, 'lambda_initial': 10, 'h_int': 5, 'g_int': 5}\n",
    "\n",
    "    m = data_set['m'].tolist()\n",
    "    d = data_set['d'].tolist()\n",
    "    v_t = {0: {}, 'count': {}, 'var': {}, 'last_met': {}}\n",
    "    data['loc_set_0'], data['loc_set_1'], data['loc_set_2'] = initiate_VF()\n",
    "    cfa_str = '_cfa' if cfa else ''\n",
    "    # Step 3: Run algorithm\n",
    "    obj_val_list, time_algorithm = iterate(data, m, d, v_t, aggregate, penalty, cfa)\n",
    "    name = \"data/sol_n1000_VFA_T=%d_aggregation%s_penalty%d_mu%d_theta1_no_PCF_utiliz-wage\" % (data['T'], cfa_str, penalty, data['mu_enter'])\n",
    "\n",
    "    np.savez(name, v_t=v_t, obj_val_list=obj_val_list, time_algorithm=time_algorithm)\n",
    " \n",
    "penalty, cfa = 250, True\n",
    "run(penalty, cfa)\n"
   ]
  }
 ],
 "metadata": {
  "kernelspec": {
   "display_name": "Python 3",
   "language": "python",
   "name": "python3"
  },
  "language_info": {
   "codemirror_mode": {
    "name": "ipython",
    "version": 3
   },
   "file_extension": ".py",
   "mimetype": "text/x-python",
   "name": "python",
   "nbconvert_exporter": "python",
   "pygments_lexer": "ipython3",
   "version": "3.10.6"
  }
 },
 "nbformat": 4,
 "nbformat_minor": 2
}
